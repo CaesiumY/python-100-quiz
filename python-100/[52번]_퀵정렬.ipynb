{
  "nbformat": 4,
  "nbformat_minor": 0,
  "metadata": {
    "colab": {
      "name": "[52번]_퀵정렬.ipynb",
      "provenance": [],
      "authorship_tag": "ABX9TyPt1dFQOwxtq9/c8rqahSys",
      "include_colab_link": true
    },
    "kernelspec": {
      "name": "python3",
      "display_name": "Python 3"
    }
  },
  "cells": [
    {
      "cell_type": "markdown",
      "metadata": {
        "id": "view-in-github",
        "colab_type": "text"
      },
      "source": [
        "<a href=\"https://colab.research.google.com/github/CaesiumY/python-100-quiz/blob/master/python-100/%5B52%EB%B2%88%5D_%ED%80%B5%EC%A0%95%EB%A0%AC.ipynb\" target=\"_parent\"><img src=\"https://colab.research.google.com/assets/colab-badge.svg\" alt=\"Open In Colab\"/></a>"
      ]
    },
    {
      "cell_type": "markdown",
      "metadata": {
        "id": "DOnlkZ_rOpNc",
        "colab_type": "text"
      },
      "source": [
        "## 52번 퀵정렬"
      ]
    },
    {
      "cell_type": "code",
      "metadata": {
        "id": "ljhGvPmsOn-V",
        "colab_type": "code",
        "colab": {
          "base_uri": "https://localhost:8080/",
          "height": 53
        },
        "outputId": "54bca0bb-61b1-4745-edb2-2751f727306c"
      },
      "source": [
        "def quick_sort(array):\n",
        "  length = len(array)\n",
        "\n",
        "  if length <= 1:\n",
        "    return array\n",
        "\n",
        "  mid = array.pop(length // 2)\n",
        "  prev_group = []\n",
        "  next_group = []\n",
        "\n",
        "  for i in range(length - 1):\n",
        "    if array[i] < mid:\n",
        "      prev_group.append(array[i])\n",
        "    else:\n",
        "      next_group.append(array[i])\n",
        "\n",
        "  return quick_sort(prev_group) + [mid] + quick_sort(next_group)\n",
        "\n",
        "user_input = input().split()\n",
        "print(quick_sort(user_input))"
      ],
      "execution_count": 4,
      "outputs": [
        {
          "output_type": "stream",
          "text": [
            "1 3 5 4 8 6 7 2\n",
            "['1', '2', '3', '4', '5', '6', '7', '8']\n"
          ],
          "name": "stdout"
        }
      ]
    }
  ]
}