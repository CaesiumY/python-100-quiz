{
  "nbformat": 4,
  "nbformat_minor": 0,
  "metadata": {
    "colab": {
      "name": "[51번] 병합정렬.ipynb",
      "provenance": [],
      "authorship_tag": "ABX9TyNoDYrfhh7nkH4BK+x6AQsa",
      "include_colab_link": true
    },
    "kernelspec": {
      "name": "python3",
      "display_name": "Python 3"
    }
  },
  "cells": [
    {
      "cell_type": "markdown",
      "metadata": {
        "id": "view-in-github",
        "colab_type": "text"
      },
      "source": [
        "<a href=\"https://colab.research.google.com/github/CaesiumY/python-100-quiz/blob/master/python-100/%5B51%EB%B2%88%5D_%EB%B3%91%ED%95%A9%EC%A0%95%EB%A0%AC.ipynb\" target=\"_parent\"><img src=\"https://colab.research.google.com/assets/colab-badge.svg\" alt=\"Open In Colab\"/></a>"
      ]
    },
    {
      "cell_type": "markdown",
      "metadata": {
        "id": "PEDt79tj_ndD",
        "colab_type": "text"
      },
      "source": [
        "## 파이썬 100제 51번 병합정렬"
      ]
    },
    {
      "cell_type": "code",
      "metadata": {
        "id": "rU8gGkJp_Xk2",
        "colab_type": "code",
        "colab": {
          "base_uri": "https://localhost:8080/",
          "height": 53
        },
        "outputId": "c8d20b75-7b24-476c-8156-ea5276f27311"
      },
      "source": [
        "def merge(prev, next):\n",
        "  result = []\n",
        "\n",
        "  while prev and next:\n",
        "    if prev[0] < next[0]:\n",
        "      result.append(prev.pop(0))\n",
        "    else:\n",
        "      result.append(next.pop(0))\n",
        "\n",
        "  while prev:\n",
        "    result.append(prev.pop(0))\n",
        "\n",
        "  while next:\n",
        "    result.append(next.pop(0))\n",
        "\n",
        "  return result\n",
        "\n",
        "\n",
        "def merge_sort(array):\n",
        "  length = len(array)\n",
        "\n",
        "  if length <= 1:\n",
        "    return array\n",
        "\n",
        "  mid_index = length // 2\n",
        "  prev_group = merge_sort(array[mid_index:])\n",
        "  next_group = merge_sort(array[:mid_index])\n",
        "\n",
        "  return merge(prev_group, next_group)\n",
        "\n",
        "user_input = input().split(' ')\n",
        "print(merge_sort(user_input))"
      ],
      "execution_count": 4,
      "outputs": [
        {
          "output_type": "stream",
          "text": [
            "1 3 5 4 8 6 7 2\n",
            "['1', '2', '3', '4', '5', '6', '7', '8']\n"
          ],
          "name": "stdout"
        }
      ]
    }
  ]
}