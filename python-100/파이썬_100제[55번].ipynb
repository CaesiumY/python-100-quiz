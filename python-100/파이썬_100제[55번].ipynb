{
  "nbformat": 4,
  "nbformat_minor": 0,
  "metadata": {
    "colab": {
      "name": "파이썬 100제[55번].ipynb",
      "provenance": [],
      "collapsed_sections": [],
      "authorship_tag": "ABX9TyNI2TzX3KKBstqnC8fKKZnj",
      "include_colab_link": true
    },
    "kernelspec": {
      "name": "python3",
      "display_name": "Python 3"
    }
  },
  "cells": [
    {
      "cell_type": "markdown",
      "metadata": {
        "id": "view-in-github",
        "colab_type": "text"
      },
      "source": [
        "<a href=\"https://colab.research.google.com/github/CaesiumY/python-100-quiz/blob/master/python-100/%ED%8C%8C%EC%9D%B4%EC%8D%AC_100%EC%A0%9C%5B55%EB%B2%88%5D.ipynb\" target=\"_parent\"><img src=\"https://colab.research.google.com/assets/colab-badge.svg\" alt=\"Open In Colab\"/></a>"
      ]
    },
    {
      "cell_type": "markdown",
      "metadata": {
        "id": "JCn0uqFKCsfi",
        "colab_type": "text"
      },
      "source": [
        "# 파이썬 100제"
      ]
    },
    {
      "cell_type": "markdown",
      "metadata": {
        "id": "eD2XcKIDC0-2",
        "colab_type": "text"
      },
      "source": [
        "## 55번 하노이의 탑\n",
        "\n",
        "### 시간 복잡도\n",
        "- `O(2n)`\n",
        "\n",
        "### 총 이동 횟수\n",
        "\n",
        "- `2^n - 1`"
      ]
    },
    {
      "cell_type": "code",
      "metadata": {
        "id": "I0tQivkxUJOf",
        "colab_type": "code",
        "colab": {
          "base_uri": "https://localhost:8080/",
          "height": 53
        },
        "outputId": "e5b78fa0-354b-43b7-8bd6-706080ea13d6"
      },
      "source": [
        "progress = []\n",
        "\n",
        "def hanoi(number, start, end, mid):\n",
        "  if number == 1:\n",
        "    progress.append([start, end])\n",
        "    return None\n",
        "\n",
        "  hanoi(number - 1, start, mid, end)\n",
        "\n",
        "  progress.append([start, end])\n",
        "\n",
        "  hanoi(number - 1, mid, end, start)\n",
        "\n",
        "\n",
        "hanoi(4, 'A', 'C', 'B')\n",
        "print(len(progress))\n",
        "print(progress)"
      ],
      "execution_count": null,
      "outputs": [
        {
          "output_type": "stream",
          "text": [
            "15\n",
            "[['A', 'B'], ['A', 'C'], ['B', 'C'], ['A', 'B'], ['C', 'A'], ['C', 'B'], ['A', 'B'], ['A', 'C'], ['B', 'C'], ['B', 'A'], ['C', 'A'], ['B', 'C'], ['A', 'B'], ['A', 'C'], ['B', 'C']]\n"
          ],
          "name": "stdout"
        }
      ]
    }
  ]
}