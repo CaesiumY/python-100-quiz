{
  "nbformat": 4,
  "nbformat_minor": 0,
  "metadata": {
    "colab": {
      "name": "재귀연습.ipynb",
      "provenance": [],
      "collapsed_sections": [],
      "authorship_tag": "ABX9TyPb2AYGf1TjMyQ6bX6SSU7M",
      "include_colab_link": true
    },
    "kernelspec": {
      "name": "python3",
      "display_name": "Python 3"
    }
  },
  "cells": [
    {
      "cell_type": "markdown",
      "metadata": {
        "id": "view-in-github",
        "colab_type": "text"
      },
      "source": [
        "<a href=\"https://colab.research.google.com/github/CaesiumY/python-100-quiz/blob/master/python-100/%EC%9E%AC%EA%B7%80%EC%97%B0%EC%8A%B5.ipynb\" target=\"_parent\"><img src=\"https://colab.research.google.com/assets/colab-badge.svg\" alt=\"Open In Colab\"/></a>"
      ]
    },
    {
      "cell_type": "markdown",
      "metadata": {
        "id": "DbJMD6F_6uqq",
        "colab_type": "text"
      },
      "source": [
        "## 재귀함수의 특징\n",
        "\n",
        "1. 중단점을 만들어줘야 한다.\n",
        "\n",
        "2. 변화를 줘서 자신을 다시 호출해야 한다.\n",
        "\n",
        "3. 대체로 반복문보다 더 빠르다."
      ]
    },
    {
      "cell_type": "markdown",
      "metadata": {
        "id": "q_cErTmK66_8",
        "colab_type": "text"
      },
      "source": [
        "### 반복문으로 구현"
      ]
    },
    {
      "cell_type": "code",
      "metadata": {
        "id": "PZwEy2kRSTln",
        "colab_type": "code",
        "colab": {
          "base_uri": "https://localhost:8080/",
          "height": 71
        },
        "outputId": "e4303bed-4f13-43fd-cdbb-c0536505b3b8"
      },
      "source": [
        "%%time\n",
        "x = 0\n",
        "\n",
        "for i in '1234':\n",
        "  x += int(i)\n",
        "\n",
        "print(x)"
      ],
      "execution_count": 1,
      "outputs": [
        {
          "output_type": "stream",
          "text": [
            "10\n",
            "CPU times: user 980 µs, sys: 0 ns, total: 980 µs\n",
            "Wall time: 945 µs\n"
          ],
          "name": "stdout"
        }
      ]
    },
    {
      "cell_type": "markdown",
      "metadata": {
        "id": "f6aWp2Jp7HX1",
        "colab_type": "text"
      },
      "source": [
        "### 재귀함수로 구현"
      ]
    },
    {
      "cell_type": "code",
      "metadata": {
        "id": "3cxE35vTSmSC",
        "colab_type": "code",
        "colab": {
          "base_uri": "https://localhost:8080/",
          "height": 71
        },
        "outputId": "85ce727f-2c9e-4d1f-aba1-7ed9b05cf8d7"
      },
      "source": [
        "%%time\n",
        "def sum(s):\n",
        "  if s == '':\n",
        "    return 0\n",
        "  else:\n",
        "    return int(s[0]) + int(sum(s[1:]))\n",
        "\n",
        "print(sum('1234'))"
      ],
      "execution_count": 2,
      "outputs": [
        {
          "output_type": "stream",
          "text": [
            "10\n",
            "CPU times: user 370 µs, sys: 0 ns, total: 370 µs\n",
            "Wall time: 301 µs\n"
          ],
          "name": "stdout"
        }
      ]
    }
  ]
}